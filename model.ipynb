{
 "cells": [
  {
   "cell_type": "markdown",
   "id": "8b806154",
   "metadata": {},
   "source": [
    "# Data Preprocessing"
   ]
  },
  {
   "cell_type": "code",
   "execution_count": 12,
   "id": "bb4021e8",
   "metadata": {},
   "outputs": [],
   "source": [
    "import numpy as np\n",
    "import pandas as pd\n",
    "import tensorflow as tf"
   ]
  },
  {
   "cell_type": "code",
   "execution_count": 13,
   "id": "d948c563",
   "metadata": {},
   "outputs": [],
   "source": [
    "df=pd.read_excel(\"Folds5x2_pp.xlsx\")"
   ]
  },
  {
   "cell_type": "code",
   "execution_count": 14,
   "id": "af4ad937",
   "metadata": {
    "scrolled": true
   },
   "outputs": [
    {
     "data": {
      "text/html": [
       "<div>\n",
       "<style scoped>\n",
       "    .dataframe tbody tr th:only-of-type {\n",
       "        vertical-align: middle;\n",
       "    }\n",
       "\n",
       "    .dataframe tbody tr th {\n",
       "        vertical-align: top;\n",
       "    }\n",
       "\n",
       "    .dataframe thead th {\n",
       "        text-align: right;\n",
       "    }\n",
       "</style>\n",
       "<table border=\"1\" class=\"dataframe\">\n",
       "  <thead>\n",
       "    <tr style=\"text-align: right;\">\n",
       "      <th></th>\n",
       "      <th>AT</th>\n",
       "      <th>V</th>\n",
       "      <th>AP</th>\n",
       "      <th>RH</th>\n",
       "      <th>PE</th>\n",
       "    </tr>\n",
       "  </thead>\n",
       "  <tbody>\n",
       "    <tr>\n",
       "      <th>0</th>\n",
       "      <td>14.96</td>\n",
       "      <td>41.76</td>\n",
       "      <td>1024.07</td>\n",
       "      <td>73.17</td>\n",
       "      <td>463.26</td>\n",
       "    </tr>\n",
       "    <tr>\n",
       "      <th>1</th>\n",
       "      <td>25.18</td>\n",
       "      <td>62.96</td>\n",
       "      <td>1020.04</td>\n",
       "      <td>59.08</td>\n",
       "      <td>444.37</td>\n",
       "    </tr>\n",
       "    <tr>\n",
       "      <th>2</th>\n",
       "      <td>5.11</td>\n",
       "      <td>39.40</td>\n",
       "      <td>1012.16</td>\n",
       "      <td>92.14</td>\n",
       "      <td>488.56</td>\n",
       "    </tr>\n",
       "    <tr>\n",
       "      <th>3</th>\n",
       "      <td>20.86</td>\n",
       "      <td>57.32</td>\n",
       "      <td>1010.24</td>\n",
       "      <td>76.64</td>\n",
       "      <td>446.48</td>\n",
       "    </tr>\n",
       "    <tr>\n",
       "      <th>4</th>\n",
       "      <td>10.82</td>\n",
       "      <td>37.50</td>\n",
       "      <td>1009.23</td>\n",
       "      <td>96.62</td>\n",
       "      <td>473.90</td>\n",
       "    </tr>\n",
       "    <tr>\n",
       "      <th>...</th>\n",
       "      <td>...</td>\n",
       "      <td>...</td>\n",
       "      <td>...</td>\n",
       "      <td>...</td>\n",
       "      <td>...</td>\n",
       "    </tr>\n",
       "    <tr>\n",
       "      <th>9563</th>\n",
       "      <td>16.65</td>\n",
       "      <td>49.69</td>\n",
       "      <td>1014.01</td>\n",
       "      <td>91.00</td>\n",
       "      <td>460.03</td>\n",
       "    </tr>\n",
       "    <tr>\n",
       "      <th>9564</th>\n",
       "      <td>13.19</td>\n",
       "      <td>39.18</td>\n",
       "      <td>1023.67</td>\n",
       "      <td>66.78</td>\n",
       "      <td>469.62</td>\n",
       "    </tr>\n",
       "    <tr>\n",
       "      <th>9565</th>\n",
       "      <td>31.32</td>\n",
       "      <td>74.33</td>\n",
       "      <td>1012.92</td>\n",
       "      <td>36.48</td>\n",
       "      <td>429.57</td>\n",
       "    </tr>\n",
       "    <tr>\n",
       "      <th>9566</th>\n",
       "      <td>24.48</td>\n",
       "      <td>69.45</td>\n",
       "      <td>1013.86</td>\n",
       "      <td>62.39</td>\n",
       "      <td>435.74</td>\n",
       "    </tr>\n",
       "    <tr>\n",
       "      <th>9567</th>\n",
       "      <td>21.60</td>\n",
       "      <td>62.52</td>\n",
       "      <td>1017.23</td>\n",
       "      <td>67.87</td>\n",
       "      <td>453.28</td>\n",
       "    </tr>\n",
       "  </tbody>\n",
       "</table>\n",
       "<p>9568 rows × 5 columns</p>\n",
       "</div>"
      ],
      "text/plain": [
       "         AT      V       AP     RH      PE\n",
       "0     14.96  41.76  1024.07  73.17  463.26\n",
       "1     25.18  62.96  1020.04  59.08  444.37\n",
       "2      5.11  39.40  1012.16  92.14  488.56\n",
       "3     20.86  57.32  1010.24  76.64  446.48\n",
       "4     10.82  37.50  1009.23  96.62  473.90\n",
       "...     ...    ...      ...    ...     ...\n",
       "9563  16.65  49.69  1014.01  91.00  460.03\n",
       "9564  13.19  39.18  1023.67  66.78  469.62\n",
       "9565  31.32  74.33  1012.92  36.48  429.57\n",
       "9566  24.48  69.45  1013.86  62.39  435.74\n",
       "9567  21.60  62.52  1017.23  67.87  453.28\n",
       "\n",
       "[9568 rows x 5 columns]"
      ]
     },
     "execution_count": 14,
     "metadata": {},
     "output_type": "execute_result"
    }
   ],
   "source": [
    "df"
   ]
  },
  {
   "cell_type": "code",
   "execution_count": 15,
   "id": "282d220d",
   "metadata": {},
   "outputs": [],
   "source": [
    "x=df.iloc[:,:-1].values\n",
    "y=df.iloc[:, -1].values"
   ]
  },
  {
   "cell_type": "code",
   "execution_count": 16,
   "id": "1fc06f37",
   "metadata": {},
   "outputs": [
    {
     "data": {
      "text/plain": [
       "AT    0\n",
       "V     0\n",
       "AP    0\n",
       "RH    0\n",
       "PE    0\n",
       "dtype: int64"
      ]
     },
     "execution_count": 16,
     "metadata": {},
     "output_type": "execute_result"
    }
   ],
   "source": [
    "df.isnull().sum()"
   ]
  },
  {
   "cell_type": "code",
   "execution_count": 17,
   "id": "ffa8003b",
   "metadata": {},
   "outputs": [],
   "source": [
    "from sklearn.model_selection import train_test_split\n",
    "x_train, x_test, y_train, y_test=train_test_split(x,y,test_size=0.2, random_state=0)"
   ]
  },
  {
   "cell_type": "code",
   "execution_count": 18,
   "id": "4846e842",
   "metadata": {},
   "outputs": [],
   "source": [
    "from sklearn.preprocessing import StandardScaler\n",
    "sc=StandardScaler()\n",
    "x_train=sc.fit_transform(x_train)\n",
    "x_test=sc.fit_transform(x_test)"
   ]
  },
  {
   "cell_type": "markdown",
   "id": "918680ac",
   "metadata": {},
   "source": [
    "# Building ANN"
   ]
  },
  {
   "cell_type": "code",
   "execution_count": 20,
   "id": "e1590e8e",
   "metadata": {},
   "outputs": [],
   "source": [
    "ann=tf.keras.models.Sequential()"
   ]
  },
  {
   "cell_type": "code",
   "execution_count": 21,
   "id": "c747f034",
   "metadata": {},
   "outputs": [],
   "source": [
    "ann.add(tf.keras.layers.Dense(units=6,activation=\"relu\"))"
   ]
  },
  {
   "cell_type": "code",
   "execution_count": 22,
   "id": "ff35ce35",
   "metadata": {},
   "outputs": [],
   "source": [
    "ann.add(tf.keras.layers.Dense(units=6, activation=\"relu\"))"
   ]
  },
  {
   "cell_type": "code",
   "execution_count": 24,
   "id": "ac977a64",
   "metadata": {},
   "outputs": [],
   "source": [
    "ann.add(tf.keras.layers.Dense(units=1))"
   ]
  },
  {
   "cell_type": "markdown",
   "id": "2d9dae1e",
   "metadata": {},
   "source": [
    "# Training ANN"
   ]
  },
  {
   "cell_type": "code",
   "execution_count": 25,
   "id": "eeb874c0",
   "metadata": {},
   "outputs": [],
   "source": [
    "ann.compile(optimizer=\"adam\", loss=\"mean_squared_error\")"
   ]
  },
  {
   "cell_type": "code",
   "execution_count": 26,
   "id": "40d191d5",
   "metadata": {},
   "outputs": [
    {
     "name": "stdout",
     "output_type": "stream",
     "text": [
      "Epoch 1/100\n",
      "240/240 [==============================] - 3s 3ms/step - loss: 205623.8438\n",
      "Epoch 2/100\n",
      "240/240 [==============================] - 1s 2ms/step - loss: 186697.6094\n",
      "Epoch 3/100\n",
      "240/240 [==============================] - 1s 3ms/step - loss: 118012.6406\n",
      "Epoch 4/100\n",
      "240/240 [==============================] - 1s 2ms/step - loss: 58793.4180\n",
      "Epoch 5/100\n",
      "240/240 [==============================] - 0s 2ms/step - loss: 24494.6582\n",
      "Epoch 6/100\n",
      "240/240 [==============================] - 1s 2ms/step - loss: 10571.1533\n",
      "Epoch 7/100\n",
      "240/240 [==============================] - 1s 3ms/step - loss: 6058.4224\n",
      "Epoch 8/100\n",
      "240/240 [==============================] - 1s 3ms/step - loss: 3885.8008\n",
      "Epoch 9/100\n",
      "240/240 [==============================] - 1s 3ms/step - loss: 2694.8215\n",
      "Epoch 10/100\n",
      "240/240 [==============================] - 1s 3ms/step - loss: 1949.3655\n",
      "Epoch 11/100\n",
      "240/240 [==============================] - 1s 3ms/step - loss: 1459.3995\n",
      "Epoch 12/100\n",
      "240/240 [==============================] - 1s 3ms/step - loss: 1117.4535\n",
      "Epoch 13/100\n",
      "240/240 [==============================] - 1s 3ms/step - loss: 868.8731\n",
      "Epoch 14/100\n",
      "240/240 [==============================] - 1s 3ms/step - loss: 684.7473\n",
      "Epoch 15/100\n",
      "240/240 [==============================] - 0s 2ms/step - loss: 539.7027\n",
      "Epoch 16/100\n",
      "240/240 [==============================] - 0s 2ms/step - loss: 422.3898\n",
      "Epoch 17/100\n",
      "240/240 [==============================] - 0s 2ms/step - loss: 325.8668\n",
      "Epoch 18/100\n",
      "240/240 [==============================] - 1s 2ms/step - loss: 248.2801\n",
      "Epoch 19/100\n",
      "240/240 [==============================] - 1s 3ms/step - loss: 185.6465\n",
      "Epoch 20/100\n",
      "240/240 [==============================] - 1s 3ms/step - loss: 136.7817\n",
      "Epoch 21/100\n",
      "240/240 [==============================] - 1s 3ms/step - loss: 100.9176\n",
      "Epoch 22/100\n",
      "240/240 [==============================] - 1s 3ms/step - loss: 74.4303\n",
      "Epoch 23/100\n",
      "240/240 [==============================] - 1s 3ms/step - loss: 56.1997\n",
      "Epoch 24/100\n",
      "240/240 [==============================] - 1s 3ms/step - loss: 44.2402\n",
      "Epoch 25/100\n",
      "240/240 [==============================] - 1s 3ms/step - loss: 36.5919\n",
      "Epoch 26/100\n",
      "240/240 [==============================] - 0s 2ms/step - loss: 31.8458\n",
      "Epoch 27/100\n",
      "240/240 [==============================] - 0s 2ms/step - loss: 28.8283\n",
      "Epoch 28/100\n",
      "240/240 [==============================] - 1s 2ms/step - loss: 26.7182\n",
      "Epoch 29/100\n",
      "240/240 [==============================] - 1s 2ms/step - loss: 25.1551\n",
      "Epoch 30/100\n",
      "240/240 [==============================] - 1s 3ms/step - loss: 24.1977\n",
      "Epoch 31/100\n",
      "240/240 [==============================] - 1s 5ms/step - loss: 23.4672\n",
      "Epoch 32/100\n",
      "240/240 [==============================] - 1s 2ms/step - loss: 22.8115\n",
      "Epoch 33/100\n",
      "240/240 [==============================] - 1s 3ms/step - loss: 22.5934\n",
      "Epoch 34/100\n",
      "240/240 [==============================] - 1s 3ms/step - loss: 22.2827\n",
      "Epoch 35/100\n",
      "240/240 [==============================] - 1s 3ms/step - loss: 22.0442\n",
      "Epoch 36/100\n",
      "240/240 [==============================] - 1s 3ms/step - loss: 21.8767\n",
      "Epoch 37/100\n",
      "240/240 [==============================] - 1s 3ms/step - loss: 21.7312\n",
      "Epoch 38/100\n",
      "240/240 [==============================] - 1s 3ms/step - loss: 21.7582\n",
      "Epoch 39/100\n",
      "240/240 [==============================] - 1s 3ms/step - loss: 21.5440\n",
      "Epoch 40/100\n",
      "240/240 [==============================] - 1s 3ms/step - loss: 21.5428\n",
      "Epoch 41/100\n",
      "240/240 [==============================] - 1s 3ms/step - loss: 21.4495\n",
      "Epoch 42/100\n",
      "240/240 [==============================] - 1s 3ms/step - loss: 21.5298\n",
      "Epoch 43/100\n",
      "240/240 [==============================] - 1s 4ms/step - loss: 21.6242\n",
      "Epoch 44/100\n",
      "240/240 [==============================] - 1s 5ms/step - loss: 21.3754\n",
      "Epoch 45/100\n",
      "240/240 [==============================] - 1s 4ms/step - loss: 21.5098\n",
      "Epoch 46/100\n",
      "240/240 [==============================] - 1s 4ms/step - loss: 21.4299\n",
      "Epoch 47/100\n",
      "240/240 [==============================] - 1s 5ms/step - loss: 21.5796\n",
      "Epoch 48/100\n",
      "240/240 [==============================] - 1s 3ms/step - loss: 21.4109\n",
      "Epoch 49/100\n",
      "240/240 [==============================] - 1s 3ms/step - loss: 21.4426\n",
      "Epoch 50/100\n",
      "240/240 [==============================] - 1s 2ms/step - loss: 21.3901\n",
      "Epoch 51/100\n",
      "240/240 [==============================] - 1s 3ms/step - loss: 21.4756\n",
      "Epoch 52/100\n",
      "240/240 [==============================] - 1s 4ms/step - loss: 21.4387\n",
      "Epoch 53/100\n",
      "240/240 [==============================] - 1s 4ms/step - loss: 21.5868\n",
      "Epoch 54/100\n",
      "240/240 [==============================] - 1s 3ms/step - loss: 21.6142\n",
      "Epoch 55/100\n",
      "240/240 [==============================] - 1s 5ms/step - loss: 21.5464\n",
      "Epoch 56/100\n",
      "240/240 [==============================] - 1s 4ms/step - loss: 21.6091\n",
      "Epoch 57/100\n",
      "240/240 [==============================] - 1s 3ms/step - loss: 21.3995\n",
      "Epoch 58/100\n",
      "240/240 [==============================] - 1s 4ms/step - loss: 21.5063\n",
      "Epoch 59/100\n",
      "240/240 [==============================] - 1s 3ms/step - loss: 21.5271\n",
      "Epoch 60/100\n",
      "240/240 [==============================] - 1s 2ms/step - loss: 21.4030\n",
      "Epoch 61/100\n",
      "240/240 [==============================] - 1s 3ms/step - loss: 21.6836\n",
      "Epoch 62/100\n",
      "240/240 [==============================] - 1s 3ms/step - loss: 21.4854\n",
      "Epoch 63/100\n",
      "240/240 [==============================] - 1s 3ms/step - loss: 21.4802\n",
      "Epoch 64/100\n",
      "240/240 [==============================] - 1s 3ms/step - loss: 21.4986\n",
      "Epoch 65/100\n",
      "240/240 [==============================] - 1s 3ms/step - loss: 21.5627\n",
      "Epoch 66/100\n",
      "240/240 [==============================] - 1s 3ms/step - loss: 21.7608\n",
      "Epoch 67/100\n",
      "240/240 [==============================] - 1s 3ms/step - loss: 21.4910\n",
      "Epoch 68/100\n",
      "240/240 [==============================] - 1s 3ms/step - loss: 21.6091\n",
      "Epoch 69/100\n",
      "240/240 [==============================] - 1s 3ms/step - loss: 21.5556\n",
      "Epoch 70/100\n",
      "240/240 [==============================] - 1s 3ms/step - loss: 21.4360\n",
      "Epoch 71/100\n",
      "240/240 [==============================] - 1s 3ms/step - loss: 21.5004\n",
      "Epoch 72/100\n",
      "240/240 [==============================] - 1s 3ms/step - loss: 21.5842\n",
      "Epoch 73/100\n",
      "240/240 [==============================] - 1s 3ms/step - loss: 21.7660\n",
      "Epoch 74/100\n",
      "240/240 [==============================] - 1s 3ms/step - loss: 21.4037\n",
      "Epoch 75/100\n",
      "240/240 [==============================] - 1s 3ms/step - loss: 21.8572\n",
      "Epoch 76/100\n",
      "240/240 [==============================] - 1s 3ms/step - loss: 21.5102\n",
      "Epoch 77/100\n",
      "240/240 [==============================] - 1s 3ms/step - loss: 21.5719\n",
      "Epoch 78/100\n",
      "240/240 [==============================] - 1s 3ms/step - loss: 21.6166\n",
      "Epoch 79/100\n",
      "240/240 [==============================] - 1s 3ms/step - loss: 21.6008\n",
      "Epoch 80/100\n",
      "240/240 [==============================] - 1s 3ms/step - loss: 21.5249\n",
      "Epoch 81/100\n",
      "240/240 [==============================] - 1s 2ms/step - loss: 21.4392\n",
      "Epoch 82/100\n",
      "240/240 [==============================] - 1s 3ms/step - loss: 21.5200\n",
      "Epoch 83/100\n",
      "240/240 [==============================] - 1s 3ms/step - loss: 21.5666\n",
      "Epoch 84/100\n",
      "240/240 [==============================] - 1s 3ms/step - loss: 21.5824\n",
      "Epoch 85/100\n",
      "240/240 [==============================] - 1s 3ms/step - loss: 21.7258\n",
      "Epoch 86/100\n",
      "240/240 [==============================] - 1s 3ms/step - loss: 21.5492\n",
      "Epoch 87/100\n",
      "240/240 [==============================] - 1s 3ms/step - loss: 21.6749\n",
      "Epoch 88/100\n",
      "240/240 [==============================] - 1s 3ms/step - loss: 21.6057\n",
      "Epoch 89/100\n",
      "240/240 [==============================] - 1s 3ms/step - loss: 21.4756\n",
      "Epoch 90/100\n",
      "240/240 [==============================] - 1s 3ms/step - loss: 21.4556\n",
      "Epoch 91/100\n",
      "240/240 [==============================] - 1s 3ms/step - loss: 21.4860\n",
      "Epoch 92/100\n",
      "240/240 [==============================] - 1s 3ms/step - loss: 21.5380\n",
      "Epoch 93/100\n",
      "240/240 [==============================] - 1s 3ms/step - loss: 21.5157\n",
      "Epoch 94/100\n",
      "240/240 [==============================] - 1s 3ms/step - loss: 21.5727\n",
      "Epoch 95/100\n",
      "240/240 [==============================] - 1s 3ms/step - loss: 21.6133\n",
      "Epoch 96/100\n",
      "240/240 [==============================] - 1s 3ms/step - loss: 21.6706\n",
      "Epoch 97/100\n",
      "240/240 [==============================] - 1s 3ms/step - loss: 21.5857\n",
      "Epoch 98/100\n"
     ]
    },
    {
     "name": "stdout",
     "output_type": "stream",
     "text": [
      "240/240 [==============================] - 1s 3ms/step - loss: 21.7554\n",
      "Epoch 99/100\n",
      "240/240 [==============================] - 1s 3ms/step - loss: 21.4566\n",
      "Epoch 100/100\n",
      "240/240 [==============================] - 1s 3ms/step - loss: 21.5366\n"
     ]
    },
    {
     "data": {
      "text/plain": [
       "<keras.callbacks.History at 0x278dae26da0>"
      ]
     },
     "execution_count": 26,
     "metadata": {},
     "output_type": "execute_result"
    }
   ],
   "source": [
    "ann.fit(x_train, y_train, batch_size=32, epochs=100)"
   ]
  },
  {
   "cell_type": "code",
   "execution_count": 27,
   "id": "3995e66a",
   "metadata": {},
   "outputs": [
    {
     "name": "stdout",
     "output_type": "stream",
     "text": [
      "60/60 [==============================] - 2s 10ms/step\n"
     ]
    }
   ],
   "source": [
    "y_pred=ann.predict(x_test)"
   ]
  },
  {
   "cell_type": "code",
   "execution_count": 28,
   "id": "f441a0b0",
   "metadata": {},
   "outputs": [
    {
     "data": {
      "text/plain": [
       "array([[431.23, 429.83],\n",
       "       [460.01, 458.71],\n",
       "       [461.14, 463.61],\n",
       "       ...,\n",
       "       [473.26, 470.02],\n",
       "       [438.  , 441.24],\n",
       "       [463.28, 461.64]])"
      ]
     },
     "execution_count": 28,
     "metadata": {},
     "output_type": "execute_result"
    }
   ],
   "source": [
    "np.set_printoptions(precision=2)\n",
    "np.concatenate((y_test.reshape(len(y_test),1), y_pred.reshape(len(y_pred),1)),1)"
   ]
  },
  {
   "cell_type": "code",
   "execution_count": 29,
   "id": "0751ab6b",
   "metadata": {},
   "outputs": [
    {
     "name": "stdout",
     "output_type": "stream",
     "text": [
      "0.9291751059040657\n"
     ]
    }
   ],
   "source": [
    "from sklearn.metrics import r2_score\n",
    "print(r2_score(y_test, y_pred))"
   ]
  },
  {
   "cell_type": "code",
   "execution_count": null,
   "id": "a38bf0a3",
   "metadata": {},
   "outputs": [],
   "source": []
  }
 ],
 "metadata": {
  "kernelspec": {
   "display_name": "Python 3 (ipykernel)",
   "language": "python",
   "name": "python3"
  },
  "language_info": {
   "codemirror_mode": {
    "name": "ipython",
    "version": 3
   },
   "file_extension": ".py",
   "mimetype": "text/x-python",
   "name": "python",
   "nbconvert_exporter": "python",
   "pygments_lexer": "ipython3",
   "version": "3.10.5"
  }
 },
 "nbformat": 4,
 "nbformat_minor": 5
}
